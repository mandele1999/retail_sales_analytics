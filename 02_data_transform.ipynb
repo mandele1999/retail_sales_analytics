{
 "cells": [
  {
   "cell_type": "markdown",
   "metadata": {},
   "source": [
    "### 2. Data Transformation\n",
    "\n",
    "This step will involve feature engineering and enhancing the dataset with new columns that add value for analysis."
   ]
  },
  {
   "cell_type": "code",
   "execution_count": 1,
   "metadata": {},
   "outputs": [],
   "source": [
    "import pandas as pd"
   ]
  },
  {
   "cell_type": "markdown",
   "metadata": {},
   "source": [
    "1. **Feature Engineering**\n",
    "* `Day of the Week`: To help analyze purchasing patterns by day\n",
    "* `Season`: Depending on your dataset's location and timeframe, it can be useful to tag each record with a season (e.g., Winter Spring).\n",
    "* `Revenue Check`: Ensure the Total Amount column correctly reflects Quantity * Price per Unit. Any discrepancies may point to data entry errors or issues with discount applications."
   ]
  },
  {
   "cell_type": "code",
   "execution_count": null,
   "metadata": {},
   "outputs": [],
   "source": []
  }
 ],
 "metadata": {
  "kernelspec": {
   "display_name": "learn-env",
   "language": "python",
   "name": "python3"
  },
  "language_info": {
   "codemirror_mode": {
    "name": "ipython",
    "version": 3
   },
   "file_extension": ".py",
   "mimetype": "text/x-python",
   "name": "python",
   "nbconvert_exporter": "python",
   "pygments_lexer": "ipython3",
   "version": "3.8.5"
  }
 },
 "nbformat": 4,
 "nbformat_minor": 2
}
